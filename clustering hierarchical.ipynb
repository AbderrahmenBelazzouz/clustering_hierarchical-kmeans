{
 "cells": [
  {
   "cell_type": "code",
   "execution_count": 1,
   "id": "97b8572d",
   "metadata": {},
   "outputs": [
    {
     "name": "stderr",
     "output_type": "stream",
     "text": [
      "C:\\Users\\abbel\\anaconda3\\lib\\site-packages\\pandas\\io\\sql.py:761: UserWarning: pandas only support SQLAlchemy connectable(engine/connection) ordatabase string URI or sqlite3 DBAPI2 connectionother DBAPI2 objects are not tested, please consider using SQLAlchemy\n",
      "  warnings.warn(\n"
     ]
    },
    {
     "data": {
      "text/html": [
       "<div>\n",
       "<style scoped>\n",
       "    .dataframe tbody tr th:only-of-type {\n",
       "        vertical-align: middle;\n",
       "    }\n",
       "\n",
       "    .dataframe tbody tr th {\n",
       "        vertical-align: top;\n",
       "    }\n",
       "\n",
       "    .dataframe thead th {\n",
       "        text-align: right;\n",
       "    }\n",
       "</style>\n",
       "<table border=\"1\" class=\"dataframe\">\n",
       "  <thead>\n",
       "    <tr style=\"text-align: right;\">\n",
       "      <th></th>\n",
       "      <th>Fructose</th>\n",
       "      <th>Glucose</th>\n",
       "      <th>Maltose</th>\n",
       "      <th>Turanose</th>\n",
       "      <th>Mélibiose+ Isomaltose</th>\n",
       "      <th>Saccharose</th>\n",
       "      <th>Tréhalose</th>\n",
       "      <th>Gentibiose</th>\n",
       "      <th>Palatinose</th>\n",
       "      <th>Raffinose</th>\n",
       "      <th>Erlose</th>\n",
       "      <th>Mélézitose</th>\n",
       "      <th>Maltotriose</th>\n",
       "      <th>Panose</th>\n",
       "      <th>Isomaltotriose</th>\n",
       "    </tr>\n",
       "  </thead>\n",
       "  <tbody>\n",
       "    <tr>\n",
       "      <th>0</th>\n",
       "      <td>38.45</td>\n",
       "      <td>33.48</td>\n",
       "      <td>5.09</td>\n",
       "      <td>1.63</td>\n",
       "      <td>0.29</td>\n",
       "      <td>0.43</td>\n",
       "      <td>0.0</td>\n",
       "      <td>0.00</td>\n",
       "      <td>0.0</td>\n",
       "      <td>0.0</td>\n",
       "      <td>1.72</td>\n",
       "      <td>0.03</td>\n",
       "      <td>0.10</td>\n",
       "      <td>0.0</td>\n",
       "      <td>0.0</td>\n",
       "    </tr>\n",
       "    <tr>\n",
       "      <th>1</th>\n",
       "      <td>40.30</td>\n",
       "      <td>31.95</td>\n",
       "      <td>4.49</td>\n",
       "      <td>1.43</td>\n",
       "      <td>0.32</td>\n",
       "      <td>0.18</td>\n",
       "      <td>0.0</td>\n",
       "      <td>0.00</td>\n",
       "      <td>0.0</td>\n",
       "      <td>0.0</td>\n",
       "      <td>0.53</td>\n",
       "      <td>0.04</td>\n",
       "      <td>0.05</td>\n",
       "      <td>0.0</td>\n",
       "      <td>0.0</td>\n",
       "    </tr>\n",
       "    <tr>\n",
       "      <th>2</th>\n",
       "      <td>38.80</td>\n",
       "      <td>34.46</td>\n",
       "      <td>4.00</td>\n",
       "      <td>1.42</td>\n",
       "      <td>0.28</td>\n",
       "      <td>0.20</td>\n",
       "      <td>0.0</td>\n",
       "      <td>0.00</td>\n",
       "      <td>0.0</td>\n",
       "      <td>0.0</td>\n",
       "      <td>1.32</td>\n",
       "      <td>0.04</td>\n",
       "      <td>0.38</td>\n",
       "      <td>0.0</td>\n",
       "      <td>0.0</td>\n",
       "    </tr>\n",
       "    <tr>\n",
       "      <th>3</th>\n",
       "      <td>37.89</td>\n",
       "      <td>32.56</td>\n",
       "      <td>5.34</td>\n",
       "      <td>1.74</td>\n",
       "      <td>0.56</td>\n",
       "      <td>0.50</td>\n",
       "      <td>0.0</td>\n",
       "      <td>0.14</td>\n",
       "      <td>0.0</td>\n",
       "      <td>0.0</td>\n",
       "      <td>1.71</td>\n",
       "      <td>0.06</td>\n",
       "      <td>0.15</td>\n",
       "      <td>0.0</td>\n",
       "      <td>0.0</td>\n",
       "    </tr>\n",
       "    <tr>\n",
       "      <th>4</th>\n",
       "      <td>37.16</td>\n",
       "      <td>33.91</td>\n",
       "      <td>5.12</td>\n",
       "      <td>1.65</td>\n",
       "      <td>0.45</td>\n",
       "      <td>0.45</td>\n",
       "      <td>0.0</td>\n",
       "      <td>0.00</td>\n",
       "      <td>0.0</td>\n",
       "      <td>0.0</td>\n",
       "      <td>1.36</td>\n",
       "      <td>0.06</td>\n",
       "      <td>0.13</td>\n",
       "      <td>0.0</td>\n",
       "      <td>0.0</td>\n",
       "    </tr>\n",
       "  </tbody>\n",
       "</table>\n",
       "</div>"
      ],
      "text/plain": [
       "   Fructose  Glucose  Maltose  Turanose  Mélibiose+ Isomaltose  Saccharose  \\\n",
       "0     38.45    33.48     5.09      1.63                   0.29        0.43   \n",
       "1     40.30    31.95     4.49      1.43                   0.32        0.18   \n",
       "2     38.80    34.46     4.00      1.42                   0.28        0.20   \n",
       "3     37.89    32.56     5.34      1.74                   0.56        0.50   \n",
       "4     37.16    33.91     5.12      1.65                   0.45        0.45   \n",
       "\n",
       "   Tréhalose  Gentibiose  Palatinose  Raffinose  Erlose  Mélézitose  \\\n",
       "0        0.0        0.00         0.0        0.0    1.72        0.03   \n",
       "1        0.0        0.00         0.0        0.0    0.53        0.04   \n",
       "2        0.0        0.00         0.0        0.0    1.32        0.04   \n",
       "3        0.0        0.14         0.0        0.0    1.71        0.06   \n",
       "4        0.0        0.00         0.0        0.0    1.36        0.06   \n",
       "\n",
       "   Maltotriose  Panose  Isomaltotriose  \n",
       "0         0.10     0.0             0.0  \n",
       "1         0.05     0.0             0.0  \n",
       "2         0.38     0.0             0.0  \n",
       "3         0.15     0.0             0.0  \n",
       "4         0.13     0.0             0.0  "
      ]
     },
     "execution_count": 1,
     "metadata": {},
     "output_type": "execute_result"
    }
   ],
   "source": [
    "import pandas as pd\n",
    "import numpy as np\n",
    "import matplotlib.pyplot as plt\n",
    "%matplotlib inline\n",
    "\n",
    "import pyodbc as podbc\n",
    "\n",
    "conn2 = podbc.connect(\"Driver={SQL Server Native Client 11.0};\"\n",
    "                     \"Server=DESKTOP-S8TORHP;\"\n",
    "                     \"Database=dataset1;\"\n",
    "                     \"Trusted_Connection=yes;\")\n",
    "\n",
    "# rynning the SQL quey i need\n",
    "SQL_Query = pd.read_sql_query('''SELECT Fructose, Glucose, Maltose, Turanose, \"Mélibiose+ Isomaltose\", Saccharose, Tréhalose, Gentibiose,Palatinose, Raffinose, Erlose, Mélézitose, Maltotriose, Panose, Isomaltotriose FROM [dataset1].[dbo].[Sheet01]''', conn2)\n",
    "\n",
    "#conn.close()\n",
    "\n",
    "\n",
    "\n",
    "# Viz\n",
    "SQL_Query.head()"
   ]
  },
  {
   "cell_type": "code",
   "execution_count": 2,
   "id": "1e9e1f4c",
   "metadata": {},
   "outputs": [
    {
     "data": {
      "text/plain": [
       "(34, 15)"
      ]
     },
     "execution_count": 2,
     "metadata": {},
     "output_type": "execute_result"
    }
   ],
   "source": [
    "SQL_Query.shape"
   ]
  },
  {
   "cell_type": "code",
   "execution_count": 3,
   "id": "c2aad746",
   "metadata": {},
   "outputs": [
    {
     "data": {
      "text/plain": [
       "Index(['Fructose', 'Glucose', 'Maltose', 'Turanose', 'Mélibiose+ Isomaltose',\n",
       "       'Saccharose', 'Tréhalose', 'Gentibiose', 'Palatinose', 'Raffinose',\n",
       "       'Erlose', 'Mélézitose', 'Maltotriose', 'Panose', 'Isomaltotriose'],\n",
       "      dtype='object')"
      ]
     },
     "execution_count": 3,
     "metadata": {},
     "output_type": "execute_result"
    }
   ],
   "source": [
    "SQL_Query.columns"
   ]
  },
  {
   "cell_type": "code",
   "execution_count": 4,
   "id": "96ecd7ed",
   "metadata": {},
   "outputs": [],
   "source": [
    "df = SQL_Query.iloc[:, 0:14].values"
   ]
  },
  {
   "cell_type": "code",
   "execution_count": 5,
   "id": "09a9317e",
   "metadata": {},
   "outputs": [
    {
     "data": {
      "text/plain": [
       "array([[3.845e+01, 3.348e+01, 5.090e+00, 1.630e+00, 2.900e-01, 4.300e-01,\n",
       "        0.000e+00, 0.000e+00, 0.000e+00, 0.000e+00, 1.720e+00, 3.000e-02,\n",
       "        1.000e-01, 0.000e+00],\n",
       "       [4.030e+01, 3.195e+01, 4.490e+00, 1.430e+00, 3.200e-01, 1.800e-01,\n",
       "        0.000e+00, 0.000e+00, 0.000e+00, 0.000e+00, 5.300e-01, 4.000e-02,\n",
       "        5.000e-02, 0.000e+00],\n",
       "       [3.880e+01, 3.446e+01, 4.000e+00, 1.420e+00, 2.800e-01, 2.000e-01,\n",
       "        0.000e+00, 0.000e+00, 0.000e+00, 0.000e+00, 1.320e+00, 4.000e-02,\n",
       "        3.800e-01, 0.000e+00],\n",
       "       [3.789e+01, 3.256e+01, 5.340e+00, 1.740e+00, 5.600e-01, 5.000e-01,\n",
       "        0.000e+00, 1.400e-01, 0.000e+00, 0.000e+00, 1.710e+00, 6.000e-02,\n",
       "        1.500e-01, 0.000e+00],\n",
       "       [3.716e+01, 3.391e+01, 5.120e+00, 1.650e+00, 4.500e-01, 4.500e-01,\n",
       "        0.000e+00, 0.000e+00, 0.000e+00, 0.000e+00, 1.360e+00, 6.000e-02,\n",
       "        1.300e-01, 0.000e+00],\n",
       "       [3.875e+01, 3.495e+01, 4.510e+00, 1.450e+00, 2.500e-01, 5.300e-01,\n",
       "        0.000e+00, 0.000e+00, 0.000e+00, 0.000e+00, 1.160e+00, 2.000e-02,\n",
       "        1.600e-01, 0.000e+00],\n",
       "       [3.883e+01, 3.150e+01, 4.360e+00, 1.370e+00, 2.800e-01, 2.100e-01,\n",
       "        0.000e+00, 0.000e+00, 0.000e+00, 0.000e+00, 1.170e+00, 2.000e-02,\n",
       "        1.600e-01, 0.000e+00],\n",
       "       [3.832e+01, 3.399e+01, 4.980e+00, 1.740e+00, 2.700e-01, 8.200e-01,\n",
       "        0.000e+00, 0.000e+00, 0.000e+00, 0.000e+00, 1.600e+00, 3.000e-02,\n",
       "        1.700e-01, 0.000e+00],\n",
       "       [3.831e+01, 3.246e+01, 5.140e+00, 1.650e+00, 3.000e-01, 4.200e-01,\n",
       "        0.000e+00, 0.000e+00, 0.000e+00, 0.000e+00, 1.760e+00, 3.000e-02,\n",
       "        1.500e-01, 0.000e+00],\n",
       "       [3.950e+01, 3.235e+01, 4.300e-01, 1.680e+00, 2.400e-01, 6.900e-01,\n",
       "        0.000e+00, 7.000e-02, 0.000e+00, 0.000e+00, 2.100e+00, 2.200e-01,\n",
       "        1.400e-01, 0.000e+00],\n",
       "       [3.816e+01, 3.152e+01, 4.440e+00, 1.490e+00, 3.800e-01, 6.700e-01,\n",
       "        2.300e-01, 0.000e+00, 0.000e+00, 0.000e+00, 8.600e-01, 6.100e-01,\n",
       "        1.200e-01, 0.000e+00],\n",
       "       [4.000e+01, 3.060e+01, 4.410e+00, 1.400e+00, 3.100e-01, 1.600e-01,\n",
       "        0.000e+00, 0.000e+00, 0.000e+00, 0.000e+00, 5.700e-01, 4.000e-02,\n",
       "        3.000e-02, 0.000e+00],\n",
       "       [3.937e+01, 3.280e+01, 3.470e+00, 1.170e+00, 2.200e-01, 1.200e-01,\n",
       "        0.000e+00, 0.000e+00, 0.000e+00, 0.000e+00, 7.800e-01, 4.000e-02,\n",
       "        4.000e-02, 0.000e+00],\n",
       "       [3.918e+01, 2.992e+01, 4.030e+00, 1.430e+00, 3.100e-01, 1.100e-01,\n",
       "        6.000e-02, 3.800e-01, 0.000e+00, 2.500e+00, 8.000e-01, 2.400e-01,\n",
       "        3.000e-01, 0.000e+00],\n",
       "       [3.649e+01, 2.984e+01, 3.910e+00, 1.420e+00, 2.900e-01, 1.100e-01,\n",
       "        1.200e-01, 3.700e-01, 0.000e+00, 1.530e+00, 1.110e+00, 2.500e-01,\n",
       "        3.200e-01, 0.000e+00],\n",
       "       [3.903e+01, 3.185e+01, 4.290e+00, 1.550e+00, 2.900e-01, 2.360e+00,\n",
       "        7.000e-02, 2.900e-01, 0.000e+00, 0.000e+00, 1.150e+00, 5.000e-02,\n",
       "        2.000e-01, 0.000e+00],\n",
       "       [3.731e+01, 3.378e+01, 3.620e+00, 1.240e-01, 2.000e-01, 4.700e-01,\n",
       "        3.000e-02, 0.000e+00, 0.000e+00, 0.000e+00, 6.200e-01, 1.100e-01,\n",
       "        6.000e-02, 0.000e+00],\n",
       "       [3.792e+01, 3.213e+01, 4.360e+00, 1.760e+00, 3.800e-01, 5.400e-01,\n",
       "        0.000e+00, 1.900e-01, 0.000e+00, 0.000e+00, 2.320e+00, 4.000e-02,\n",
       "        1.500e-01, 0.000e+00],\n",
       "       [3.934e+01, 3.438e+01, 3.840e+00, 1.670e+00, 3.600e-01, 5.100e-01,\n",
       "        2.000e-02, 2.000e-01, 0.000e+00, 0.000e+00, 2.410e+00, 5.000e-02,\n",
       "        2.400e-01, 0.000e+00],\n",
       "       [4.098e+01, 3.416e+01, 4.340e+00, 1.380e+00, 2.700e-01, 1.100e-01,\n",
       "        7.000e-02, 0.000e+00, 0.000e+00, 0.000e+00, 3.000e-01, 5.000e-02,\n",
       "        4.000e-02, 0.000e+00],\n",
       "       [3.832e+01, 2.978e+01, 4.650e+00, 1.580e+00, 8.900e-01, 5.000e-02,\n",
       "        1.400e-01, 1.900e-01, 0.000e+00, 0.000e+00, 2.500e-01, 7.000e-02,\n",
       "        9.000e-02, 0.000e+00],\n",
       "       [4.027e+01, 3.197e+01, 4.880e+00, 1.490e+00, 4.400e-01, 9.000e-02,\n",
       "        4.000e-02, 2.300e-01, 0.000e+00, 0.000e+00, 9.900e-01, 1.300e-01,\n",
       "        1.300e-01, 0.000e+00],\n",
       "       [4.218e+01, 3.314e+01, 3.670e+00, 1.170e+00, 2.400e-01, 5.000e-02,\n",
       "        0.000e+00, 0.000e+00, 0.000e+00, 0.000e+00, 3.500e-01, 3.000e-02,\n",
       "        5.000e-02, 0.000e+00],\n",
       "       [4.292e+01, 3.214e+01, 2.980e+00, 1.050e+00, 2.200e-01, 6.000e-01,\n",
       "        0.000e+00, 0.000e+00, 0.000e+00, 0.000e+00, 4.200e-01, 0.000e+00,\n",
       "        6.000e-02, 0.000e+00],\n",
       "       [4.085e+01, 3.494e+01, 4.260e+00, 1.360e+00, 3.100e-01, 1.300e-01,\n",
       "        0.000e+00, 5.000e-02, 0.000e+00, 0.000e+00, 1.650e+00, 4.000e-02,\n",
       "        9.000e-02, 0.000e+00],\n",
       "       [4.165e+01, 3.421e+01, 4.030e+00, 1.500e+00, 4.700e-01, 6.000e-02,\n",
       "        9.000e-02, 1.800e-01, 0.000e+00, 0.000e+00, 6.900e-01, 2.300e-01,\n",
       "        1.300e-01, 0.000e+00],\n",
       "       [4.001e+01, 3.380e+01, 4.120e+00, 1.400e+00, 2.800e-01, 8.000e-02,\n",
       "        0.000e+00, 1.600e-01, 0.000e+00, 0.000e+00, 1.360e+00, 7.000e-02,\n",
       "        2.100e-01, 0.000e+00],\n",
       "       [4.021e+01, 3.150e+01, 4.180e+00, 1.540e+00, 4.600e-01, 1.900e-01,\n",
       "        1.800e-01, 4.600e-01, 0.000e+00, 0.000e+00, 6.700e-01, 3.700e-01,\n",
       "        2.900e-01, 0.000e+00],\n",
       "       [4.136e+01, 3.036e+01, 4.390e+00, 1.160e+00, 6.200e-01, 5.000e-02,\n",
       "        0.000e+00, 0.000e+00, 0.000e+00, 0.000e+00, 2.700e-01, 2.000e-02,\n",
       "        4.000e-02, 0.000e+00],\n",
       "       [4.009e+01, 3.328e+01, 3.820e+00, 1.450e+00, 4.400e-01, 8.000e-02,\n",
       "        9.000e-02, 0.000e+00, 0.000e+00, 0.000e+00, 6.300e-01, 2.100e-01,\n",
       "        1.500e-01, 0.000e+00],\n",
       "       [3.922e+01, 3.213e+01, 4.340e+00, 1.330e+00, 5.000e-01, 4.000e-01,\n",
       "        1.000e-01, 2.600e-01, 0.000e+00, 0.000e+00, 2.500e-01, 1.300e-01,\n",
       "        8.000e-02, 0.000e+00],\n",
       "       [3.915e+01, 3.266e+01, 3.580e+00, 1.790e+00, 4.000e-01, 7.000e-01,\n",
       "        0.000e+00, 1.400e-01, 0.000e+00, 0.000e+00, 1.860e+00, 8.000e-02,\n",
       "        2.700e-01, 0.000e+00],\n",
       "       [3.915e+01, 3.241e+01, 3.720e+00, 1.340e+00, 3.700e-01, 2.100e-01,\n",
       "        0.000e+00, 0.000e+00, 0.000e+00, 0.000e+00, 2.700e-01, 1.160e+00,\n",
       "        6.000e-02, 0.000e+00],\n",
       "       [4.109e+01, 3.214e+01, 4.590e+00, 1.580e+00, 6.200e-01, 1.100e-01,\n",
       "        0.000e+00, 1.800e-01, 0.000e+00, 0.000e+00, 8.400e-01, 5.000e-02,\n",
       "        7.000e-02, 0.000e+00]])"
      ]
     },
     "execution_count": 5,
     "metadata": {},
     "output_type": "execute_result"
    }
   ],
   "source": [
    "df"
   ]
  },
  {
   "cell_type": "code",
   "execution_count": 15,
   "id": "f9ad8357",
   "metadata": {},
   "outputs": [
    {
     "data": {
      "image/png": "[encoded data removed]",
      "text/plain": [
       "<Figure size 720x504 with 1 Axes>"
      ]
     },
     "metadata": {
      "needs_background": "light"
     },
     "output_type": "display_data"
    }
   ],
   "source": [
    "import scipy.cluster.hierarchy as shc\n",
    "\n",
    "plt.figure(figsize=(10, 7))\n",
    "plt.title(\"Dendogram\")\n",
    "dend = shc.dendrogram(shc.linkage(df, method='ward'))"
   ]
  },
  {
   "cell_type": "code",
   "execution_count": 7,
   "id": "35f23f2f",
   "metadata": {},
   "outputs": [],
   "source": [
    "from sklearn.cluster import AgglomerativeClustering\n",
    "\n",
    "cluster = AgglomerativeClustering(n_clusters=2, affinity='euclidean', linkage='ward')\n",
    "labels_=cluster.fit_predict(df)"
   ]
  },
  {
   "cell_type": "code",
   "execution_count": 8,
   "id": "cead6422",
   "metadata": {},
   "outputs": [
    {
     "data": {
      "text/plain": [
       "array([0, 1, 0, 0, 0, 0, 1, 0, 0, 1, 1, 1, 1, 1, 1, 1, 0, 0, 0, 0, 1, 1,\n",
       "       0, 0, 0, 0, 0, 1, 1, 0, 1, 0, 1, 1], dtype=int64)"
      ]
     },
     "execution_count": 8,
     "metadata": {},
     "output_type": "execute_result"
    }
   ],
   "source": [
    "labels_"
   ]
  },
  {
   "cell_type": "code",
   "execution_count": 9,
   "id": "0c69203c",
   "metadata": {},
   "outputs": [],
   "source": [
    "SQL_Query['labels'] = cluster.labels_"
   ]
  },
  {
   "cell_type": "code",
   "execution_count": 11,
   "id": "264b6147",
   "metadata": {},
   "outputs": [
    {
     "data": {
      "text/html": [
       "<div>\n",
       "<style scoped>\n",
       "    .dataframe tbody tr th:only-of-type {\n",
       "        vertical-align: middle;\n",
       "    }\n",
       "\n",
       "    .dataframe tbody tr th {\n",
       "        vertical-align: top;\n",
       "    }\n",
       "\n",
       "    .dataframe thead th {\n",
       "        text-align: right;\n",
       "    }\n",
       "</style>\n",
       "<table border=\"1\" class=\"dataframe\">\n",
       "  <thead>\n",
       "    <tr style=\"text-align: right;\">\n",
       "      <th></th>\n",
       "      <th>Fructose</th>\n",
       "      <th>Glucose</th>\n",
       "      <th>Maltose</th>\n",
       "      <th>Turanose</th>\n",
       "      <th>Mélibiose+ Isomaltose</th>\n",
       "      <th>Saccharose</th>\n",
       "      <th>Tréhalose</th>\n",
       "      <th>Gentibiose</th>\n",
       "      <th>Palatinose</th>\n",
       "      <th>Raffinose</th>\n",
       "      <th>Erlose</th>\n",
       "      <th>Mélézitose</th>\n",
       "      <th>Maltotriose</th>\n",
       "      <th>Panose</th>\n",
       "      <th>Isomaltotriose</th>\n",
       "      <th>labels</th>\n",
       "    </tr>\n",
       "  </thead>\n",
       "  <tbody>\n",
       "    <tr>\n",
       "      <th>0</th>\n",
       "      <td>38.45</td>\n",
       "      <td>33.48</td>\n",
       "      <td>5.09</td>\n",
       "      <td>1.63</td>\n",
       "      <td>0.29</td>\n",
       "      <td>0.43</td>\n",
       "      <td>0.0</td>\n",
       "      <td>0.00</td>\n",
       "      <td>0.0</td>\n",
       "      <td>0.0</td>\n",
       "      <td>1.72</td>\n",
       "      <td>0.03</td>\n",
       "      <td>0.10</td>\n",
       "      <td>0.0</td>\n",
       "      <td>0.0</td>\n",
       "      <td>0</td>\n",
       "    </tr>\n",
       "    <tr>\n",
       "      <th>1</th>\n",
       "      <td>40.30</td>\n",
       "      <td>31.95</td>\n",
       "      <td>4.49</td>\n",
       "      <td>1.43</td>\n",
       "      <td>0.32</td>\n",
       "      <td>0.18</td>\n",
       "      <td>0.0</td>\n",
       "      <td>0.00</td>\n",
       "      <td>0.0</td>\n",
       "      <td>0.0</td>\n",
       "      <td>0.53</td>\n",
       "      <td>0.04</td>\n",
       "      <td>0.05</td>\n",
       "      <td>0.0</td>\n",
       "      <td>0.0</td>\n",
       "      <td>1</td>\n",
       "    </tr>\n",
       "    <tr>\n",
       "      <th>2</th>\n",
       "      <td>38.80</td>\n",
       "      <td>34.46</td>\n",
       "      <td>4.00</td>\n",
       "      <td>1.42</td>\n",
       "      <td>0.28</td>\n",
       "      <td>0.20</td>\n",
       "      <td>0.0</td>\n",
       "      <td>0.00</td>\n",
       "      <td>0.0</td>\n",
       "      <td>0.0</td>\n",
       "      <td>1.32</td>\n",
       "      <td>0.04</td>\n",
       "      <td>0.38</td>\n",
       "      <td>0.0</td>\n",
       "      <td>0.0</td>\n",
       "      <td>0</td>\n",
       "    </tr>\n",
       "    <tr>\n",
       "      <th>3</th>\n",
       "      <td>37.89</td>\n",
       "      <td>32.56</td>\n",
       "      <td>5.34</td>\n",
       "      <td>1.74</td>\n",
       "      <td>0.56</td>\n",
       "      <td>0.50</td>\n",
       "      <td>0.0</td>\n",
       "      <td>0.14</td>\n",
       "      <td>0.0</td>\n",
       "      <td>0.0</td>\n",
       "      <td>1.71</td>\n",
       "      <td>0.06</td>\n",
       "      <td>0.15</td>\n",
       "      <td>0.0</td>\n",
       "      <td>0.0</td>\n",
       "      <td>0</td>\n",
       "    </tr>\n",
       "    <tr>\n",
       "      <th>4</th>\n",
       "      <td>37.16</td>\n",
       "      <td>33.91</td>\n",
       "      <td>5.12</td>\n",
       "      <td>1.65</td>\n",
       "      <td>0.45</td>\n",
       "      <td>0.45</td>\n",
       "      <td>0.0</td>\n",
       "      <td>0.00</td>\n",
       "      <td>0.0</td>\n",
       "      <td>0.0</td>\n",
       "      <td>1.36</td>\n",
       "      <td>0.06</td>\n",
       "      <td>0.13</td>\n",
       "      <td>0.0</td>\n",
       "      <td>0.0</td>\n",
       "      <td>0</td>\n",
       "    </tr>\n",
       "  </tbody>\n",
       "</table>\n",
       "</div>"
      ],
      "text/plain": [
       "   Fructose  Glucose  Maltose  Turanose  Mélibiose+ Isomaltose  Saccharose  \\\n",
       "0     38.45    33.48     5.09      1.63                   0.29        0.43   \n",
       "1     40.30    31.95     4.49      1.43                   0.32        0.18   \n",
       "2     38.80    34.46     4.00      1.42                   0.28        0.20   \n",
       "3     37.89    32.56     5.34      1.74                   0.56        0.50   \n",
       "4     37.16    33.91     5.12      1.65                   0.45        0.45   \n",
       "\n",
       "   Tréhalose  Gentibiose  Palatinose  Raffinose  Erlose  Mélézitose  \\\n",
       "0        0.0        0.00         0.0        0.0    1.72        0.03   \n",
       "1        0.0        0.00         0.0        0.0    0.53        0.04   \n",
       "2        0.0        0.00         0.0        0.0    1.32        0.04   \n",
       "3        0.0        0.14         0.0        0.0    1.71        0.06   \n",
       "4        0.0        0.00         0.0        0.0    1.36        0.06   \n",
       "\n",
       "   Maltotriose  Panose  Isomaltotriose  labels  \n",
       "0         0.10     0.0             0.0       0  \n",
       "1         0.05     0.0             0.0       1  \n",
       "2         0.38     0.0             0.0       0  \n",
       "3         0.15     0.0             0.0       0  \n",
       "4         0.13     0.0             0.0       0  "
      ]
     },
     "execution_count": 11,
     "metadata": {},
     "output_type": "execute_result"
    }
   ],
   "source": [
    "SQL_Query.head()"
   ]
  },
  {
   "cell_type": "code",
   "execution_count": 12,
   "id": "bfa6a610",
   "metadata": {},
   "outputs": [
    {
     "data": {
      "text/plain": [
       "<matplotlib.collections.PathCollection at 0x26f3173b4c0>"
      ]
     },
     "execution_count": 12,
     "metadata": {},
     "output_type": "execute_result"
    },
    {
     "data": {
      "image/png": "[encoded data removed]",
      "text/plain": [
       "<Figure size 720x504 with 1 Axes>"
      ]
     },
     "metadata": {
      "needs_background": "light"
     },
     "output_type": "display_data"
    }
   ],
   "source": [
    "plt.figure(figsize=(10, 7))\n",
    "plt.scatter(df[:,0], df[:,1], c=cluster.labels_, cmap='rainbow')"
   ]
  },
  {
   "cell_type": "code",
   "execution_count": 14,
   "id": "247a05aa",
   "metadata": {},
   "outputs": [
    {
     "data": {
      "text/plain": [
       "-1"
      ]
     },
     "execution_count": 14,
     "metadata": {},
     "output_type": "execute_result"
    }
   ],
   "source": [
    "# Exporting this data back to a New Table in SQL\n",
    "from sqlalchemy import create_engine\n",
    "import urllib\n",
    "\n",
    "\n",
    "quoted = urllib.parse.quote_plus(\"Driver={SQL Server Native Client 11.0};\"\n",
    "                     \"Server=DESKTOP-S8TORHP;\"\n",
    "                     \"Database=dataset1;\"\n",
    "                     \"Trusted_Connection=yes;\")\n",
    "\n",
    "engine = create_engine('mssql+pyodbc:///?odbc_connect={}'.format(quoted))\n",
    "\n",
    "SQL_Query.to_sql('dataset_clusters_hierarchical', schema='dbo', con = engine, if_exists = 'replace')"
   ]
  },
  {
   "cell_type": "code",
   "execution_count": null,
   "id": "63bfd27c",
   "metadata": {},
   "outputs": [],
   "source": []
  },
  {
   "cell_type": "code",
   "execution_count": null,
   "id": "8a4c1ed1",
   "metadata": {},
   "outputs": [],
   "source": []
  },
  {
   "cell_type": "code",
   "execution_count": null,
   "id": "cbd072ab",
   "metadata": {},
   "outputs": [],
   "source": []
  }
 ],
 "metadata": {
  "kernelspec": {
   "display_name": "Python 3 (ipykernel)",
   "language": "python",
   "name": "python3"
  },
  "language_info": {
   "codemirror_mode": {
    "name": "ipython",
    "version": 3
   },
   "file_extension": ".py",
   "mimetype": "text/x-python",
   "name": "python",
   "nbconvert_exporter": "python",
   "pygments_lexer": "ipython3",
   "version": "3.9.12"
  }
 },
 "nbformat": 4,
 "nbformat_minor": 5
}
